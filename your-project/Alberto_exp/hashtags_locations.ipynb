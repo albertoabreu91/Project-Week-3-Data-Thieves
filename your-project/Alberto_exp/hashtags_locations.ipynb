{
 "cells": [
  {
   "cell_type": "code",
   "execution_count": 193,
   "metadata": {},
   "outputs": [],
   "source": [
    "import pandas as pd\n",
    "from collections import Counter  \n",
    "import json\n",
    "import numpy as np\n",
    "from sqlalchemy import create_engine"
   ]
  },
  {
   "cell_type": "code",
   "execution_count": 103,
   "metadata": {},
   "outputs": [],
   "source": [
    "tweets_df = pd.read_csv('twitter_dataset.csv')"
   ]
  },
  {
   "cell_type": "code",
   "execution_count": 104,
   "metadata": {},
   "outputs": [
    {
     "data": {
      "text/html": [
       "<div>\n",
       "<style scoped>\n",
       "    .dataframe tbody tr th:only-of-type {\n",
       "        vertical-align: middle;\n",
       "    }\n",
       "\n",
       "    .dataframe tbody tr th {\n",
       "        vertical-align: top;\n",
       "    }\n",
       "\n",
       "    .dataframe thead th {\n",
       "        text-align: right;\n",
       "    }\n",
       "</style>\n",
       "<table border=\"1\" class=\"dataframe\">\n",
       "  <thead>\n",
       "    <tr style=\"text-align: right;\">\n",
       "      <th></th>\n",
       "      <th>Unnamed: 0</th>\n",
       "      <th>hashtags</th>\n",
       "      <th>tweet</th>\n",
       "      <th>user_name</th>\n",
       "      <th>location</th>\n",
       "    </tr>\n",
       "  </thead>\n",
       "  <tbody>\n",
       "    <tr>\n",
       "      <th>0</th>\n",
       "      <td>0</td>\n",
       "      <td>[]</td>\n",
       "      <td>RT @QasimRashid: I’m an American Muslim human ...</td>\n",
       "      <td>pghcovert</td>\n",
       "      <td>the steel city</td>\n",
       "    </tr>\n",
       "    <tr>\n",
       "      <th>1</th>\n",
       "      <td>1</td>\n",
       "      <td>[]</td>\n",
       "      <td>This is a morbid article, but thanks.\\n\\nInvas...</td>\n",
       "      <td>canucklaw1</td>\n",
       "      <td>British Columbia, Canada</td>\n",
       "    </tr>\n",
       "    <tr>\n",
       "      <th>2</th>\n",
       "      <td>2</td>\n",
       "      <td>[]</td>\n",
       "      <td>RT @BillKristol: I’ve been wondering why the v...</td>\n",
       "      <td>Miss_de_Haro</td>\n",
       "      <td>NaN</td>\n",
       "    </tr>\n",
       "    <tr>\n",
       "      <th>3</th>\n",
       "      <td>3</td>\n",
       "      <td>[]</td>\n",
       "      <td>RT @DVATW: Oh look! Calais gets even more enri...</td>\n",
       "      <td>The_Nitr0</td>\n",
       "      <td>NaN</td>\n",
       "    </tr>\n",
       "    <tr>\n",
       "      <th>4</th>\n",
       "      <td>4</td>\n",
       "      <td>[]</td>\n",
       "      <td>RT @QasimRashid: I’m an American Muslim human ...</td>\n",
       "      <td>LunaticEuphoric</td>\n",
       "      <td>Lahore, Pakistan</td>\n",
       "    </tr>\n",
       "  </tbody>\n",
       "</table>\n",
       "</div>"
      ],
      "text/plain": [
       "   Unnamed: 0 hashtags                                              tweet  \\\n",
       "0           0       []  RT @QasimRashid: I’m an American Muslim human ...   \n",
       "1           1       []  This is a morbid article, but thanks.\\n\\nInvas...   \n",
       "2           2       []  RT @BillKristol: I’ve been wondering why the v...   \n",
       "3           3       []  RT @DVATW: Oh look! Calais gets even more enri...   \n",
       "4           4       []  RT @QasimRashid: I’m an American Muslim human ...   \n",
       "\n",
       "         user_name                  location  \n",
       "0        pghcovert            the steel city  \n",
       "1       canucklaw1  British Columbia, Canada  \n",
       "2     Miss_de_Haro                       NaN  \n",
       "3        The_Nitr0                       NaN  \n",
       "4  LunaticEuphoric          Lahore, Pakistan  "
      ]
     },
     "execution_count": 104,
     "metadata": {},
     "output_type": "execute_result"
    }
   ],
   "source": [
    "tweets_df.head()"
   ]
  },
  {
   "cell_type": "markdown",
   "metadata": {},
   "source": [
    "# Data wrangling"
   ]
  },
  {
   "cell_type": "code",
   "execution_count": 105,
   "metadata": {},
   "outputs": [],
   "source": [
    "tweets_df = tweets_df.dropna()"
   ]
  },
  {
   "cell_type": "code",
   "execution_count": 106,
   "metadata": {},
   "outputs": [],
   "source": [
    "def lowercase_locations(loc):\n",
    "    return loc.lower()\n",
    "    "
   ]
  },
  {
   "cell_type": "code",
   "execution_count": 107,
   "metadata": {},
   "outputs": [],
   "source": [
    "tweets_df['location'] = tweets_df['location'].apply(lowercase_locations)"
   ]
  },
  {
   "cell_type": "code",
   "execution_count": null,
   "metadata": {},
   "outputs": [],
   "source": []
  },
  {
   "cell_type": "code",
   "execution_count": 108,
   "metadata": {},
   "outputs": [],
   "source": [
    "def fix_names(loc):\n",
    "    \n",
    "    if 'turkey' in loc:\n",
    "        return 'turkey'\n",
    "    \n",
    "    elif 'türkiye' in loc:\n",
    "        return 'turkey'\n",
    "    \n",
    "    elif 'sakarya' in loc:\n",
    "        return 'turkey'\n",
    "    \n",
    "    elif 'deutschland' in loc:\n",
    "        return 'deutschland'\n",
    "    \n",
    "    elif 'england' in loc:\n",
    "        return 'united kingdom'\n",
    "    \n",
    "    elif 'london' in loc:\n",
    "        return 'united kingdom'\n",
    "    \n",
    "    elif 'united kingdom' in loc:\n",
    "        return 'united kingdom'\n",
    "    \n",
    "    elif 'british columbia' in loc:\n",
    "        return 'canada'\n",
    "    \n",
    "    elif 'ontario' in loc:\n",
    "        return 'canada'\n",
    "    \n",
    "    elif 'calgary' in loc:\n",
    "        return 'canada'\n",
    "    \n",
    "    elif 'mexico' in loc:\n",
    "        return 'mexico'\n",
    "    elif 'pakistan' in loc:\n",
    "        return 'pakistan'\n",
    "    \n",
    "    return loc"
   ]
  },
  {
   "cell_type": "code",
   "execution_count": 109,
   "metadata": {},
   "outputs": [],
   "source": [
    "tweets_df['location'] = tweets_df['location'].apply(fix_names)"
   ]
  },
  {
   "cell_type": "code",
   "execution_count": 111,
   "metadata": {},
   "outputs": [],
   "source": [
    "tweets_df = tweets_df.drop('Unnamed: 0', axis =1)"
   ]
  },
  {
   "cell_type": "code",
   "execution_count": 112,
   "metadata": {},
   "outputs": [],
   "source": [
    "import json\n",
    "\n",
    "with open('states_hash.json') as json_file:  \n",
    "    data = json.load(json_file)"
   ]
  },
  {
   "cell_type": "code",
   "execution_count": 113,
   "metadata": {},
   "outputs": [],
   "source": [
    "us_states = [state.lower() for state in data.values()]"
   ]
  },
  {
   "cell_type": "code",
   "execution_count": 114,
   "metadata": {},
   "outputs": [],
   "source": [
    "def fixed_usa(loc):\n",
    "    for i in range(len(us_states)):\n",
    "        if us_states[i] in loc:\n",
    "            return us_states[i]\n",
    "    return loc\n",
    "    "
   ]
  },
  {
   "cell_type": "code",
   "execution_count": 115,
   "metadata": {},
   "outputs": [],
   "source": [
    "tweets_df['location'] = tweets_df['location'].apply(fixed_usa)"
   ]
  },
  {
   "cell_type": "code",
   "execution_count": 116,
   "metadata": {},
   "outputs": [],
   "source": [
    "countries = ['turkey','deutschland','united kingdom','canada','germany', 'mexico', 'pakistan']\n",
    "    \n",
    "def eliminating_locations(loc):\n",
    "    if (loc in countries):\n",
    "        return loc\n",
    "    elif loc in us_states:\n",
    "        return loc\n",
    "    "
   ]
  },
  {
   "cell_type": "code",
   "execution_count": 117,
   "metadata": {},
   "outputs": [],
   "source": [
    "tweets_df['location'] = tweets_df['location'].map(eliminating_locations)"
   ]
  },
  {
   "cell_type": "code",
   "execution_count": 118,
   "metadata": {},
   "outputs": [
    {
     "data": {
      "text/html": [
       "<div>\n",
       "<style scoped>\n",
       "    .dataframe tbody tr th:only-of-type {\n",
       "        vertical-align: middle;\n",
       "    }\n",
       "\n",
       "    .dataframe tbody tr th {\n",
       "        vertical-align: top;\n",
       "    }\n",
       "\n",
       "    .dataframe thead th {\n",
       "        text-align: right;\n",
       "    }\n",
       "</style>\n",
       "<table border=\"1\" class=\"dataframe\">\n",
       "  <thead>\n",
       "    <tr style=\"text-align: right;\">\n",
       "      <th></th>\n",
       "      <th>hashtags</th>\n",
       "      <th>tweet</th>\n",
       "      <th>user_name</th>\n",
       "      <th>location</th>\n",
       "    </tr>\n",
       "  </thead>\n",
       "  <tbody>\n",
       "    <tr>\n",
       "      <th>0</th>\n",
       "      <td>[]</td>\n",
       "      <td>RT @QasimRashid: I’m an American Muslim human ...</td>\n",
       "      <td>pghcovert</td>\n",
       "      <td>None</td>\n",
       "    </tr>\n",
       "    <tr>\n",
       "      <th>1</th>\n",
       "      <td>[]</td>\n",
       "      <td>This is a morbid article, but thanks.\\n\\nInvas...</td>\n",
       "      <td>canucklaw1</td>\n",
       "      <td>canada</td>\n",
       "    </tr>\n",
       "    <tr>\n",
       "      <th>4</th>\n",
       "      <td>[]</td>\n",
       "      <td>RT @QasimRashid: I’m an American Muslim human ...</td>\n",
       "      <td>LunaticEuphoric</td>\n",
       "      <td>pakistan</td>\n",
       "    </tr>\n",
       "    <tr>\n",
       "      <th>6</th>\n",
       "      <td>[]</td>\n",
       "      <td>RT @Gracie5111: The EU dumped millions of Musl...</td>\n",
       "      <td>CuriousLor</td>\n",
       "      <td>canada</td>\n",
       "    </tr>\n",
       "    <tr>\n",
       "      <th>7</th>\n",
       "      <td>[]</td>\n",
       "      <td>RT @BillKristol: I’ve been wondering why the v...</td>\n",
       "      <td>MelindaPowell</td>\n",
       "      <td>texas</td>\n",
       "    </tr>\n",
       "  </tbody>\n",
       "</table>\n",
       "</div>"
      ],
      "text/plain": [
       "  hashtags                                              tweet  \\\n",
       "0       []  RT @QasimRashid: I’m an American Muslim human ...   \n",
       "1       []  This is a morbid article, but thanks.\\n\\nInvas...   \n",
       "4       []  RT @QasimRashid: I’m an American Muslim human ...   \n",
       "6       []  RT @Gracie5111: The EU dumped millions of Musl...   \n",
       "7       []  RT @BillKristol: I’ve been wondering why the v...   \n",
       "\n",
       "         user_name  location  \n",
       "0        pghcovert      None  \n",
       "1       canucklaw1    canada  \n",
       "4  LunaticEuphoric  pakistan  \n",
       "6       CuriousLor    canada  \n",
       "7    MelindaPowell     texas  "
      ]
     },
     "execution_count": 118,
     "metadata": {},
     "output_type": "execute_result"
    }
   ],
   "source": [
    "tweets_df.head()"
   ]
  },
  {
   "cell_type": "code",
   "execution_count": 119,
   "metadata": {},
   "outputs": [],
   "source": [
    "tweets_df = tweets_df.dropna().reset_index(drop=True)"
   ]
  },
  {
   "cell_type": "code",
   "execution_count": 190,
   "metadata": {},
   "outputs": [
    {
     "data": {
      "text/html": [
       "<div>\n",
       "<style scoped>\n",
       "    .dataframe tbody tr th:only-of-type {\n",
       "        vertical-align: middle;\n",
       "    }\n",
       "\n",
       "    .dataframe tbody tr th {\n",
       "        vertical-align: top;\n",
       "    }\n",
       "\n",
       "    .dataframe thead th {\n",
       "        text-align: right;\n",
       "    }\n",
       "</style>\n",
       "<table border=\"1\" class=\"dataframe\">\n",
       "  <thead>\n",
       "    <tr style=\"text-align: right;\">\n",
       "      <th></th>\n",
       "      <th>hashtags</th>\n",
       "      <th>tweet</th>\n",
       "      <th>user_name</th>\n",
       "      <th>location</th>\n",
       "    </tr>\n",
       "  </thead>\n",
       "  <tbody>\n",
       "    <tr>\n",
       "      <th>11</th>\n",
       "      <td>['ICEraids']</td>\n",
       "      <td>RT @Harryslaststand: Tomorrow #ICEraids will b...</td>\n",
       "      <td>WinstonOrozco_1</td>\n",
       "      <td>new york</td>\n",
       "    </tr>\n",
       "    <tr>\n",
       "      <th>17</th>\n",
       "      <td>['Christians', 'Evangelicals', 'Trump', 'Jesus']</td>\n",
       "      <td>RT @mog7546: SEPARATE CHILDREN FROM THEIR PARE...</td>\n",
       "      <td>SarahMeinzer</td>\n",
       "      <td>texas</td>\n",
       "    </tr>\n",
       "    <tr>\n",
       "      <th>23</th>\n",
       "      <td>['Christians', 'Evangelicals', 'Trump', 'Jesus']</td>\n",
       "      <td>RT @mog7546: SEPARATE CHILDREN FROM THEIR PARE...</td>\n",
       "      <td>pushandpulljlm</td>\n",
       "      <td>north carolina</td>\n",
       "    </tr>\n",
       "    <tr>\n",
       "      <th>79</th>\n",
       "      <td>['Brexit']</td>\n",
       "      <td>Maybe if the same waste of energy and effort t...</td>\n",
       "      <td>dre_65</td>\n",
       "      <td>united kingdom</td>\n",
       "    </tr>\n",
       "    <tr>\n",
       "      <th>105</th>\n",
       "      <td>['ClimateAction']</td>\n",
       "      <td>RT @UN: Refugees are joining other community m...</td>\n",
       "      <td>JamesGi27668130</td>\n",
       "      <td>florida</td>\n",
       "    </tr>\n",
       "  </tbody>\n",
       "</table>\n",
       "</div>"
      ],
      "text/plain": [
       "                                             hashtags  \\\n",
       "11                                       ['ICEraids']   \n",
       "17   ['Christians', 'Evangelicals', 'Trump', 'Jesus']   \n",
       "23   ['Christians', 'Evangelicals', 'Trump', 'Jesus']   \n",
       "79                                         ['Brexit']   \n",
       "105                                 ['ClimateAction']   \n",
       "\n",
       "                                                 tweet        user_name  \\\n",
       "11   RT @Harryslaststand: Tomorrow #ICEraids will b...  WinstonOrozco_1   \n",
       "17   RT @mog7546: SEPARATE CHILDREN FROM THEIR PARE...     SarahMeinzer   \n",
       "23   RT @mog7546: SEPARATE CHILDREN FROM THEIR PARE...   pushandpulljlm   \n",
       "79   Maybe if the same waste of energy and effort t...           dre_65   \n",
       "105  RT @UN: Refugees are joining other community m...  JamesGi27668130   \n",
       "\n",
       "           location  \n",
       "11         new york  \n",
       "17            texas  \n",
       "23   north carolina  \n",
       "79   united kingdom  \n",
       "105         florida  "
      ]
     },
     "execution_count": 190,
     "metadata": {},
     "output_type": "execute_result"
    }
   ],
   "source": [
    "tweets_df.head()"
   ]
  },
  {
   "cell_type": "code",
   "execution_count": null,
   "metadata": {},
   "outputs": [],
   "source": []
  },
  {
   "cell_type": "code",
   "execution_count": 128,
   "metadata": {},
   "outputs": [],
   "source": [
    "def eliminating_null_hashtags(ht):\n",
    "    if ht == '[]':\n",
    "        return np.nan\n",
    "    else:\n",
    "        return ht\n",
    "    "
   ]
  },
  {
   "cell_type": "code",
   "execution_count": 130,
   "metadata": {},
   "outputs": [],
   "source": [
    "tweets_df['hashtags'] = tweets_df['hashtags'].map(eliminating_null_hashtags)"
   ]
  },
  {
   "cell_type": "code",
   "execution_count": 133,
   "metadata": {},
   "outputs": [],
   "source": [
    "tweets_df = tweets_df.dropna()"
   ]
  },
  {
   "cell_type": "code",
   "execution_count": 134,
   "metadata": {},
   "outputs": [
    {
     "data": {
      "text/html": [
       "<div>\n",
       "<style scoped>\n",
       "    .dataframe tbody tr th:only-of-type {\n",
       "        vertical-align: middle;\n",
       "    }\n",
       "\n",
       "    .dataframe tbody tr th {\n",
       "        vertical-align: top;\n",
       "    }\n",
       "\n",
       "    .dataframe thead th {\n",
       "        text-align: right;\n",
       "    }\n",
       "</style>\n",
       "<table border=\"1\" class=\"dataframe\">\n",
       "  <thead>\n",
       "    <tr style=\"text-align: right;\">\n",
       "      <th></th>\n",
       "      <th>hashtags</th>\n",
       "      <th>tweet</th>\n",
       "      <th>user_name</th>\n",
       "      <th>location</th>\n",
       "    </tr>\n",
       "  </thead>\n",
       "  <tbody>\n",
       "    <tr>\n",
       "      <th>11</th>\n",
       "      <td>['ICEraids']</td>\n",
       "      <td>RT @Harryslaststand: Tomorrow #ICEraids will b...</td>\n",
       "      <td>WinstonOrozco_1</td>\n",
       "      <td>new york</td>\n",
       "    </tr>\n",
       "    <tr>\n",
       "      <th>17</th>\n",
       "      <td>['Christians', 'Evangelicals', 'Trump', 'Jesus']</td>\n",
       "      <td>RT @mog7546: SEPARATE CHILDREN FROM THEIR PARE...</td>\n",
       "      <td>SarahMeinzer</td>\n",
       "      <td>texas</td>\n",
       "    </tr>\n",
       "    <tr>\n",
       "      <th>23</th>\n",
       "      <td>['Christians', 'Evangelicals', 'Trump', 'Jesus']</td>\n",
       "      <td>RT @mog7546: SEPARATE CHILDREN FROM THEIR PARE...</td>\n",
       "      <td>pushandpulljlm</td>\n",
       "      <td>north carolina</td>\n",
       "    </tr>\n",
       "    <tr>\n",
       "      <th>79</th>\n",
       "      <td>['Brexit']</td>\n",
       "      <td>Maybe if the same waste of energy and effort t...</td>\n",
       "      <td>dre_65</td>\n",
       "      <td>united kingdom</td>\n",
       "    </tr>\n",
       "    <tr>\n",
       "      <th>105</th>\n",
       "      <td>['ClimateAction']</td>\n",
       "      <td>RT @UN: Refugees are joining other community m...</td>\n",
       "      <td>JamesGi27668130</td>\n",
       "      <td>florida</td>\n",
       "    </tr>\n",
       "  </tbody>\n",
       "</table>\n",
       "</div>"
      ],
      "text/plain": [
       "                                             hashtags  \\\n",
       "11                                       ['ICEraids']   \n",
       "17   ['Christians', 'Evangelicals', 'Trump', 'Jesus']   \n",
       "23   ['Christians', 'Evangelicals', 'Trump', 'Jesus']   \n",
       "79                                         ['Brexit']   \n",
       "105                                 ['ClimateAction']   \n",
       "\n",
       "                                                 tweet        user_name  \\\n",
       "11   RT @Harryslaststand: Tomorrow #ICEraids will b...  WinstonOrozco_1   \n",
       "17   RT @mog7546: SEPARATE CHILDREN FROM THEIR PARE...     SarahMeinzer   \n",
       "23   RT @mog7546: SEPARATE CHILDREN FROM THEIR PARE...   pushandpulljlm   \n",
       "79   Maybe if the same waste of energy and effort t...           dre_65   \n",
       "105  RT @UN: Refugees are joining other community m...  JamesGi27668130   \n",
       "\n",
       "           location  \n",
       "11         new york  \n",
       "17            texas  \n",
       "23   north carolina  \n",
       "79   united kingdom  \n",
       "105         florida  "
      ]
     },
     "execution_count": 134,
     "metadata": {},
     "output_type": "execute_result"
    }
   ],
   "source": [
    "tweets_df.head()"
   ]
  },
  {
   "cell_type": "code",
   "execution_count": 149,
   "metadata": {},
   "outputs": [],
   "source": [
    "tweets_refugees = tweets_df[tweets_df['hashtags'].str.contains('efu')]"
   ]
  },
  {
   "cell_type": "code",
   "execution_count": 189,
   "metadata": {},
   "outputs": [
    {
     "data": {
      "text/html": [
       "<div>\n",
       "<style scoped>\n",
       "    .dataframe tbody tr th:only-of-type {\n",
       "        vertical-align: middle;\n",
       "    }\n",
       "\n",
       "    .dataframe tbody tr th {\n",
       "        vertical-align: top;\n",
       "    }\n",
       "\n",
       "    .dataframe thead th {\n",
       "        text-align: right;\n",
       "    }\n",
       "</style>\n",
       "<table border=\"1\" class=\"dataframe\">\n",
       "  <thead>\n",
       "    <tr style=\"text-align: right;\">\n",
       "      <th></th>\n",
       "      <th>hashtags</th>\n",
       "      <th>tweet</th>\n",
       "      <th>user_name</th>\n",
       "    </tr>\n",
       "    <tr>\n",
       "      <th>location</th>\n",
       "      <th></th>\n",
       "      <th></th>\n",
       "      <th></th>\n",
       "    </tr>\n",
       "  </thead>\n",
       "  <tbody>\n",
       "    <tr>\n",
       "      <th>turkey</th>\n",
       "      <td>71</td>\n",
       "      <td>71</td>\n",
       "      <td>71</td>\n",
       "    </tr>\n",
       "    <tr>\n",
       "      <th>united kingdom</th>\n",
       "      <td>19</td>\n",
       "      <td>19</td>\n",
       "      <td>19</td>\n",
       "    </tr>\n",
       "    <tr>\n",
       "      <th>canada</th>\n",
       "      <td>11</td>\n",
       "      <td>11</td>\n",
       "      <td>11</td>\n",
       "    </tr>\n",
       "    <tr>\n",
       "      <th>new york</th>\n",
       "      <td>6</td>\n",
       "      <td>6</td>\n",
       "      <td>6</td>\n",
       "    </tr>\n",
       "    <tr>\n",
       "      <th>washington</th>\n",
       "      <td>5</td>\n",
       "      <td>5</td>\n",
       "      <td>5</td>\n",
       "    </tr>\n",
       "  </tbody>\n",
       "</table>\n",
       "</div>"
      ],
      "text/plain": [
       "                hashtags  tweet  user_name\n",
       "location                                  \n",
       "turkey                71     71         71\n",
       "united kingdom        19     19         19\n",
       "canada                11     11         11\n",
       "new york               6      6          6\n",
       "washington             5      5          5"
      ]
     },
     "execution_count": 189,
     "metadata": {},
     "output_type": "execute_result"
    }
   ],
   "source": [
    "tweets_refugees.head()"
   ]
  },
  {
   "cell_type": "code",
   "execution_count": 158,
   "metadata": {},
   "outputs": [],
   "source": [
    "tweets_refugees = tweets_refugees.groupby('location').count().sort_values('hashtags', ascending= False)"
   ]
  },
  {
   "cell_type": "code",
   "execution_count": 169,
   "metadata": {},
   "outputs": [],
   "source": [
    "tweets_refugees_filter = tweets_refugees[tweets_refugees['hashtags'] >4]"
   ]
  },
  {
   "cell_type": "code",
   "execution_count": 170,
   "metadata": {},
   "outputs": [],
   "source": [
    "tweets_refugees_filter = tweets_refugees_filter.drop(['tweet' , 'user_name'], axis =1)\n"
   ]
  },
  {
   "cell_type": "code",
   "execution_count": 176,
   "metadata": {},
   "outputs": [],
   "source": [
    "tweets_refugees_filter.columns = ['#refugee_total_counts']"
   ]
  },
  {
   "cell_type": "code",
   "execution_count": 178,
   "metadata": {},
   "outputs": [],
   "source": [
    "population = [79.81, 66.04, 37.06, 8.623, 7.536]"
   ]
  },
  {
   "cell_type": "code",
   "execution_count": 179,
   "metadata": {},
   "outputs": [],
   "source": [
    "tweets_refugees_filter['population'] = population"
   ]
  },
  {
   "cell_type": "code",
   "execution_count": 181,
   "metadata": {},
   "outputs": [],
   "source": [
    "tweets_refugees_filter['ratio_per_100k'] = tweets_refugees_filter['#refugee_total_counts'] / tweets_refugees_filter['population']"
   ]
  },
  {
   "cell_type": "code",
   "execution_count": 185,
   "metadata": {},
   "outputs": [],
   "source": [
    "tweets_refugees_filter = tweets_refugees_filter.sort_values('ratio_per_100k', ascending=False)"
   ]
  },
  {
   "cell_type": "code",
   "execution_count": 195,
   "metadata": {},
   "outputs": [],
   "source": [
    "tweets_refugees_filter.columns = ['ht_refugee_total_count','population','ratio_per_M']"
   ]
  },
  {
   "cell_type": "code",
   "execution_count": 199,
   "metadata": {
    "scrolled": true
   },
   "outputs": [
    {
     "name": "stdout",
     "output_type": "stream",
     "text": [
      "<class 'pandas.core.frame.DataFrame'>\n",
      "Index: 5 entries, turkey to united kingdom\n",
      "Data columns (total 3 columns):\n",
      "ht_refugee_total_count    5 non-null int64\n",
      "population                5 non-null float64\n",
      "ratio_per_M               5 non-null float64\n",
      "dtypes: float64(2), int64(1)\n",
      "memory usage: 160.0+ bytes\n"
     ]
    }
   ],
   "source": [
    "tweets_refugees_filter.info()"
   ]
  },
  {
   "cell_type": "code",
   "execution_count": 200,
   "metadata": {},
   "outputs": [
    {
     "data": {
      "text/html": [
       "<div>\n",
       "<style scoped>\n",
       "    .dataframe tbody tr th:only-of-type {\n",
       "        vertical-align: middle;\n",
       "    }\n",
       "\n",
       "    .dataframe tbody tr th {\n",
       "        vertical-align: top;\n",
       "    }\n",
       "\n",
       "    .dataframe thead th {\n",
       "        text-align: right;\n",
       "    }\n",
       "</style>\n",
       "<table border=\"1\" class=\"dataframe\">\n",
       "  <thead>\n",
       "    <tr style=\"text-align: right;\">\n",
       "      <th></th>\n",
       "      <th>ht_refugee_total_count</th>\n",
       "      <th>population</th>\n",
       "      <th>ratio_per_M</th>\n",
       "    </tr>\n",
       "    <tr>\n",
       "      <th>location</th>\n",
       "      <th></th>\n",
       "      <th></th>\n",
       "      <th></th>\n",
       "    </tr>\n",
       "  </thead>\n",
       "  <tbody>\n",
       "    <tr>\n",
       "      <th>turkey</th>\n",
       "      <td>71</td>\n",
       "      <td>79.810</td>\n",
       "      <td>0.889613</td>\n",
       "    </tr>\n",
       "    <tr>\n",
       "      <th>new york</th>\n",
       "      <td>6</td>\n",
       "      <td>8.623</td>\n",
       "      <td>0.695814</td>\n",
       "    </tr>\n",
       "    <tr>\n",
       "      <th>washington</th>\n",
       "      <td>5</td>\n",
       "      <td>7.536</td>\n",
       "      <td>0.663482</td>\n",
       "    </tr>\n",
       "    <tr>\n",
       "      <th>canada</th>\n",
       "      <td>11</td>\n",
       "      <td>37.060</td>\n",
       "      <td>0.296816</td>\n",
       "    </tr>\n",
       "    <tr>\n",
       "      <th>united kingdom</th>\n",
       "      <td>19</td>\n",
       "      <td>66.040</td>\n",
       "      <td>0.287704</td>\n",
       "    </tr>\n",
       "  </tbody>\n",
       "</table>\n",
       "</div>"
      ],
      "text/plain": [
       "                ht_refugee_total_count  population  ratio_per_M\n",
       "location                                                       \n",
       "turkey                              71      79.810     0.889613\n",
       "new york                             6       8.623     0.695814\n",
       "washington                           5       7.536     0.663482\n",
       "canada                              11      37.060     0.296816\n",
       "united kingdom                      19      66.040     0.287704"
      ]
     },
     "execution_count": 200,
     "metadata": {},
     "output_type": "execute_result"
    }
   ],
   "source": [
    "tweets_refugees_filter"
   ]
  },
  {
   "cell_type": "code",
   "execution_count": 197,
   "metadata": {},
   "outputs": [],
   "source": [
    "tweets_refugees_filter.to_csv('ht_refugees_locations.csv')"
   ]
  },
  {
   "cell_type": "code",
   "execution_count": 191,
   "metadata": {},
   "outputs": [],
   "source": [
    "driver = 'mysql+pymysql'\n",
    "user = 'virdishc_12345'\n",
    "password = '12345'\n",
    "host = 'az1-ss5.a2hosting.com'\n",
    "database = 'virdishc_IH_Project3'"
   ]
  },
  {
   "cell_type": "code",
   "execution_count": null,
   "metadata": {},
   "outputs": [],
   "source": [
    "connection_string = f'{driver}://{user}:{password}@{host}/{database}'\n",
    "engine= create_engine(connection_string)"
   ]
  },
  {
   "cell_type": "code",
   "execution_count": null,
   "metadata": {},
   "outputs": [],
   "source": [
    "tweets_refugees_filter.to_sql('ht_refugees_locations',engine)"
   ]
  },
  {
   "cell_type": "code",
   "execution_count": null,
   "metadata": {},
   "outputs": [],
   "source": []
  },
  {
   "cell_type": "code",
   "execution_count": null,
   "metadata": {},
   "outputs": [],
   "source": []
  },
  {
   "cell_type": "code",
   "execution_count": null,
   "metadata": {},
   "outputs": [],
   "source": []
  },
  {
   "cell_type": "code",
   "execution_count": null,
   "metadata": {},
   "outputs": [],
   "source": []
  }
 ],
 "metadata": {
  "kernelspec": {
   "display_name": "Python 3",
   "language": "python",
   "name": "python3"
  },
  "language_info": {
   "codemirror_mode": {
    "name": "ipython",
    "version": 3
   },
   "file_extension": ".py",
   "mimetype": "text/x-python",
   "name": "python",
   "nbconvert_exporter": "python",
   "pygments_lexer": "ipython3",
   "version": "3.7.3"
  }
 },
 "nbformat": 4,
 "nbformat_minor": 2
}
